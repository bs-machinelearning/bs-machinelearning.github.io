{
 "cells": [
  {
   "cell_type": "code",
   "execution_count": 4,
   "id": "61e4aceb",
   "metadata": {},
   "outputs": [],
   "source": [
    "import os\n",
    "import json\n",
    "from markdownify import markdownify as md\n",
    "from bs4 import BeautifulSoup\n",
    "\n",
    "def html_to_markdown(html_content: str) -> str:\n",
    "    \"\"\"\n",
    "    Convert HTML content to Markdown format.\n",
    "    \"\"\"\n",
    "    return md(html_content)\n",
    "\n",
    "PATH_TO_PROJ = \"/home/brimax/repos/bs-machinelearning.github.io/project-pages\"\n",
    "PATH_TO_JSON = \"/home/brimax/repos/bs-machinelearning.github.io/assets/projects.json\"\n",
    "PATH_TO_HTML = \"/home/brimax/repos/bs-machinelearning.github.io/project-pages\"\n",
    "\n",
    "with open(PATH_TO_JSON, \"r\") as file:\n",
    "    projects = json.load(file)\n",
    "\n",
    "for proj in projects:\n",
    "    uid = proj[\"id\"]\n",
    "    html_path = os.path.join(PATH_TO_HTML, f\"{uid}.html\")\n",
    "    md_path = os.path.join(PATH_TO_PROJ, f\"{uid}.md\")\n",
    "    if os.path.exists(html_path):\n",
    "        with open(html_path, \"r\", encoding=\"utf-8\") as html_file:\n",
    "            soup = BeautifulSoup(html_file, \"html.parser\")\n",
    "            content_div = soup.find(\"div\", class_=\"content\")\n",
    "            if content_div:\n",
    "                markdown_content = html_to_markdown(str(content_div))\n",
    "            else:\n",
    "                markdown_content = \"*No content found*\"\n",
    "    else:\n",
    "        markdown_content = \"*HTML file not found*\"\n",
    "    with open(md_path, \"w\", encoding=\"utf-8\") as md_file:\n",
    "        md_file.write(markdown_content)"
   ]
  }
 ],
 "metadata": {
  "kernelspec": {
   "display_name": "diffu",
   "language": "python",
   "name": "python3"
  },
  "language_info": {
   "codemirror_mode": {
    "name": "ipython",
    "version": 3
   },
   "file_extension": ".py",
   "mimetype": "text/x-python",
   "name": "python",
   "nbconvert_exporter": "python",
   "pygments_lexer": "ipython3",
   "version": "3.12.0"
  }
 },
 "nbformat": 4,
 "nbformat_minor": 5
}
